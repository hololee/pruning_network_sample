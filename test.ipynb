{
 "cells": [
  {
   "cell_type": "code",
   "execution_count": 1,
   "metadata": {
    "collapsed": true,
    "pycharm": {
     "is_executing": false
    }
   },
   "outputs": [
    {
     "name": "stdout",
     "text": [
      "weight : 0.0, updated weight : 0.007398, diff : 0.007398\nweight : 0.030303, updated weight : 0.0014041, diff : 0.028899\nweight : 0.060606, updated weight : -0.0041919, diff : 0.064798\nweight : 0.090909, updated weight : -0.0090028, diff : 0.099912\nweight : 0.12121, updated weight : -0.012663, diff : 0.13387\nweight : 0.15152, updated weight : -0.014836, diff : 0.16635\nweight : 0.18182, updated weight : -0.015225, diff : 0.19704\nweight : 0.21212, updated weight : -0.013578, diff : 0.2257\nweight : 0.24242, updated weight : -0.0096879, diff : 0.25211\nweight : 0.27273, updated weight : -0.0034013, diff : 0.27613\nweight : 0.30303, updated weight : 0.0053865, diff : 0.29764\nweight : 0.33333, updated weight : 0.016731, diff : 0.3166\nweight : 0.36364, updated weight : 0.030643, diff : 0.33299\nweight : 0.39394, updated weight : 0.047091, diff : 0.34685\nweight : 0.42424, updated weight : 0.066008, diff : 0.35823\nweight : 0.45455, updated weight : 0.087295, diff : 0.36725\nweight : 0.48485, updated weight : 0.11083, diff : 0.37402\nweight : 0.51515, updated weight : 0.13647, diff : 0.37868\nweight : 0.54545, updated weight : 0.16407, diff : 0.38139\nweight : 0.57576, updated weight : 0.19345, diff : 0.38231\nweight : 0.60606, updated weight : 0.22445, diff : 0.38161\nweight : 0.63636, updated weight : 0.2569, diff : 0.37947\nweight : 0.66667, updated weight : 0.29063, diff : 0.37603\nweight : 0.69697, updated weight : 0.32549, diff : 0.37148\nweight : 0.72727, updated weight : 0.36133, diff : 0.36594\nweight : 0.75758, updated weight : 0.39799, diff : 0.35958\nweight : 0.78788, updated weight : 0.43536, diff : 0.35252\nweight : 0.81818, updated weight : 0.47329, diff : 0.34489\nweight : 0.84848, updated weight : 0.51169, diff : 0.3368\nweight : 0.87879, updated weight : 0.55044, diff : 0.32834\nweight : 0.90909, updated weight : 0.58947, diff : 0.31962\nweight : 0.93939, updated weight : 0.62868, diff : 0.31071\nweight : 0.9697, updated weight : 0.66801, diff : 0.30168\nweight : 1.0, updated weight : 0.7074, diff : 0.2926\nweight : 1.0303, updated weight : 0.74678, diff : 0.28352\nweight : 1.0606, updated weight : 0.78612, diff : 0.27448\nweight : 1.0909, updated weight : 0.82538, diff : 0.26553\nweight : 1.1212, updated weight : 0.86451, diff : 0.2567\nweight : 1.1515, updated weight : 0.9035, diff : 0.24801\nweight : 1.1818, updated weight : 0.94232, diff : 0.23949\nweight : 1.2121, updated weight : 0.98096, diff : 0.23116\nweight : 1.2424, updated weight : 1.0194, diff : 0.22304\nweight : 1.2727, updated weight : 1.0576, diff : 0.21512\nweight : 1.303, updated weight : 1.0956, diff : 0.20743\nweight : 1.3333, updated weight : 1.1334, diff : 0.19996\nweight : 1.3636, updated weight : 1.1709, diff : 0.19273\nweight : 1.3939, updated weight : 1.2082, diff : 0.18572\nweight : 1.4242, updated weight : 1.2453, diff : 0.17895\nweight : 1.4545, updated weight : 1.2821, diff : 0.1724\nweight : 1.4848, updated weight : 1.3188, diff : 0.16609\nweight : 1.5152, updated weight : 1.3552, diff : 0.16\nweight : 1.5455, updated weight : 1.3913, diff : 0.15413\nweight : 1.5758, updated weight : 1.4273, diff : 0.14847\nweight : 1.6061, updated weight : 1.463, diff : 0.14303\nweight : 1.6364, updated weight : 1.4986, diff : 0.13778\nweight : 1.6667, updated weight : 1.5339, diff : 0.13274\nweight : 1.697, updated weight : 1.5691, diff : 0.12789\nweight : 1.7273, updated weight : 1.604, diff : 0.12322\nweight : 1.7576, updated weight : 1.6388, diff : 0.11874\nweight : 1.7879, updated weight : 1.6735, diff : 0.11443\nweight : 1.8182, updated weight : 1.7079, diff : 0.11029\nweight : 1.8485, updated weight : 1.7422, diff : 0.1063\nweight : 1.8788, updated weight : 1.7763, diff : 0.10248\nweight : 1.9091, updated weight : 1.8103, diff : 0.098797\nweight : 1.9394, updated weight : 1.8441, diff : 0.095263\nweight : 1.9697, updated weight : 1.8778, diff : 0.091866\nweight : 2.0, updated weight : 1.9114, diff : 0.088602\nweight : 2.0303, updated weight : 1.9448, diff : 0.085465\nweight : 2.0606, updated weight : 1.9782, diff : 0.082449\nweight : 2.0909, updated weight : 2.0114, diff : 0.07955\nweight : 2.1212, updated weight : 2.0444, diff : 0.076763\nweight : 2.1515, updated weight : 2.0774, diff : 0.074084\nweight : 2.1818, updated weight : 2.1103, diff : 0.071507\nweight : 2.2121, updated weight : 2.1431, diff : 0.069029\nweight : 2.2424, updated weight : 2.1758, diff : 0.066645\nweight : 2.2727, updated weight : 2.2084, diff : 0.064352\nweight : 2.303, updated weight : 2.2409, diff : 0.062145\nweight : 2.3333, updated weight : 2.2733, diff : 0.060022\nweight : 2.3636, updated weight : 2.3057, diff : 0.057978\nweight : 2.3939, updated weight : 2.3379, diff : 0.05601\nweight : 2.4242, updated weight : 2.3701, diff : 0.054115\nweight : 2.4545, updated weight : 2.4023, diff : 0.05229\nweight : 2.4848, updated weight : 2.4343, diff : 0.050532\nweight : 2.5152, updated weight : 2.4663, diff : 0.048838\nweight : 2.5455, updated weight : 2.4982, diff : 0.047205\nweight : 2.5758, updated weight : 2.5301, diff : 0.045632\nweight : 2.6061, updated weight : 2.5619, diff : 0.044115\nweight : 2.6364, updated weight : 2.5937, diff : 0.042652\nweight : 2.6667, updated weight : 2.6254, diff : 0.041242\nweight : 2.697, updated weight : 2.6571, diff : 0.03988\nweight : 2.7273, updated weight : 2.6887, diff : 0.038567\nweight : 2.7576, updated weight : 2.7203, diff : 0.0373\nweight : 2.7879, updated weight : 2.7518, diff : 0.036076\nweight : 2.8182, updated weight : 2.7833, diff : 0.034895\nweight : 2.8485, updated weight : 2.8147, diff : 0.033754\nweight : 2.8788, updated weight : 2.8461, diff : 0.032652\nweight : 2.9091, updated weight : 2.8775, diff : 0.031587\nweight : 2.9394, updated weight : 2.9088, diff : 0.030558\nweight : 2.9697, updated weight : 2.9401, diff : 0.029564\nweight : 3.0, updated weight : 2.9714, diff : 0.028602\n"
     ],
     "output_type": "stream"
    }
   ],
   "source": [
    "import numpy as np\n",
    "import math\n",
    "import matplotlib.pyplot as plt\n",
    "\n",
    "middle_input = 0.6\n",
    "alpha = 0.6\n",
    "target = 1\n",
    "predict = 0.9\n",
    "\n",
    "w_old_list = np.linspace(0, 3, 100)\n",
    "\n",
    "index_list = []\n",
    "differ_list = []\n",
    "\n",
    "\n",
    "def sigmoid(x):\n",
    "    return 1 / (1 + math.exp(-x))\n",
    "\n",
    "\n",
    "for index, w_old in enumerate(w_old_list):\n",
    "    w_new = alpha * (target - predict) * sigmoid(predict) * (\n",
    "            1 - sigmoid(predict)) * middle_input + (\n",
    "                    ((w_old * (1 + w_old ** 2) ** 2) - (2 * w_old * alpha)) / (1 + w_old ** 2) ** 2)\n",
    "\n",
    "    print(\"weight : {:0.5}, updated weight : {:0.5}, diff : {:0.5}\".format(w_old, w_new, np.abs(w_new - w_old)))\n",
    "\n",
    "    index_list.append(w_old)\n",
    "    differ_list.append(np.abs(w_new - w_old))\n",
    "\n",
    "plt.plot(index_list, differ_list)\n",
    "plt.ylabel(\"closed to zero\")\n",
    "plt.xlabel(\"weight\")\n",
    "plt.show()"
   ]
  },
  {
   "cell_type": "code",
   "execution_count": null,
   "outputs": [],
   "source": [
    "import numpy as np\n",
    "import math\n",
    "import matplotlib.pyplot as plt\n",
    "\n",
    "middle_input = 0.6\n",
    "alpha = 0.6\n",
    "target = 1\n",
    "predict = 0.9\n",
    "lamda = 0.3\n",
    "\n",
    "w_old_list = np.linspace(0, 3, 100)\n",
    "\n",
    "index_list = []\n",
    "differ_list = []\n",
    "\n",
    "\n",
    "def sigmoid(x):\n",
    "    return 1 / (1 + math.exp(-x))\n",
    "\n",
    "\n",
    "def sgn(x):\n",
    "    if x > 0:\n",
    "        return 1\n",
    "    else:\n",
    "        return -1\n",
    "\n",
    "\n",
    "for index, w_old in enumerate(w_old_list):\n",
    "    w_new = alpha * (target - predict) * sigmoid(predict) * (1 - sigmoid(predict)) * middle_input + (\n",
    "            (alpha * lamda * sgn(w_old) / (1 + w_old) ** 2) + w_old)\n",
    "\n",
    "    print(\"weight : {:0.5}, updated weight : {:0.5}, diff : {:0.5}\".format(w_old, w_new, np.abs(w_new - w_old)))\n",
    "\n",
    "    index_list.append(w_old)\n",
    "    differ_list.append(np.abs(w_new - w_old))\n",
    "\n",
    "plt.plot(index_list, differ_list)\n",
    "plt.ylabel(\"closed to zero\")\n",
    "plt.xlabel(\"weight\")\n",
    "plt.show()\n"
   ],
   "metadata": {
    "collapsed": false,
    "pycharm": {
     "name": "#%%\n"
    }
   }
  }
 ],
 "metadata": {
  "language_info": {
   "codemirror_mode": {
    "name": "ipython",
    "version": 2
   },
   "file_extension": ".py",
   "mimetype": "text/x-python",
   "name": "python",
   "nbconvert_exporter": "python",
   "pygments_lexer": "ipython2",
   "version": "2.7.6"
  },
  "kernelspec": {
   "name": "python3",
   "language": "python",
   "display_name": "Python 3"
  },
  "pycharm": {
   "stem_cell": {
    "cell_type": "raw",
    "source": [],
    "metadata": {
     "collapsed": false
    }
   }
  }
 },
 "nbformat": 4,
 "nbformat_minor": 0
}